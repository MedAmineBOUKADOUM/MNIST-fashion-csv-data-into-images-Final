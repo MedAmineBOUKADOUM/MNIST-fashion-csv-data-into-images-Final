{
 "cells": [
  {
   "cell_type": "code",
   "execution_count": 1,
   "id": "uniform-preservation",
   "metadata": {
    "_cell_guid": "b1076dfc-b9ad-4769-8c92-a6c4dae69d19",
    "_uuid": "8f2839f25d086af736a60e9eeb907d3b93b6e0e5",
    "execution": {
     "iopub.execute_input": "2021-05-04T23:38:37.088147Z",
     "iopub.status.busy": "2021-05-04T23:38:37.087475Z",
     "iopub.status.idle": "2021-05-04T23:38:37.104909Z",
     "shell.execute_reply": "2021-05-04T23:38:37.103828Z"
    },
    "papermill": {
     "duration": 0.03883,
     "end_time": "2021-05-04T23:38:37.105142",
     "exception": false,
     "start_time": "2021-05-04T23:38:37.066312",
     "status": "completed"
    },
    "tags": []
   },
   "outputs": [
    {
     "name": "stdout",
     "output_type": "stream",
     "text": [
      "/kaggle/input/fashionmnist/t10k-labels-idx1-ubyte\n",
      "/kaggle/input/fashionmnist/t10k-images-idx3-ubyte\n",
      "/kaggle/input/fashionmnist/fashion-mnist_test.csv\n",
      "/kaggle/input/fashionmnist/fashion-mnist_train.csv\n",
      "/kaggle/input/fashionmnist/train-labels-idx1-ubyte\n",
      "/kaggle/input/fashionmnist/train-images-idx3-ubyte\n"
     ]
    }
   ],
   "source": [
    "#this have to do with the data upload from kaggle, if you are not using kagle kernel you don't have to write it!\n",
    "import numpy as np # linear algebra\n",
    "import pandas as pd # data processing, CSV file I/O (e.g. pd.read_csv)\n",
    "import os\n",
    "for dirname, _, filenames in os.walk('/kaggle/input'):\n",
    "    for filename in filenames:\n",
    "        print(os.path.join(dirname, filename))"
   ]
  },
  {
   "cell_type": "code",
   "execution_count": 2,
   "id": "humanitarian-franklin",
   "metadata": {
    "execution": {
     "iopub.execute_input": "2021-05-04T23:38:37.125812Z",
     "iopub.status.busy": "2021-05-04T23:38:37.124891Z",
     "iopub.status.idle": "2021-05-04T23:38:37.127826Z",
     "shell.execute_reply": "2021-05-04T23:38:37.128276Z"
    },
    "papermill": {
     "duration": 0.015155,
     "end_time": "2021-05-04T23:38:37.128482",
     "exception": false,
     "start_time": "2021-05-04T23:38:37.113327",
     "status": "completed"
    },
    "tags": []
   },
   "outputs": [],
   "source": [
    "#importing the libraries we need\n",
    "#import numpy as np //already imported \n",
    "#import pandas as pd //already imported \n",
    "import matplotlib.pyplot as plt"
   ]
  },
  {
   "cell_type": "code",
   "execution_count": 3,
   "id": "likely-guarantee",
   "metadata": {
    "execution": {
     "iopub.execute_input": "2021-05-04T23:38:37.147364Z",
     "iopub.status.busy": "2021-05-04T23:38:37.146688Z",
     "iopub.status.idle": "2021-05-04T23:38:44.094261Z",
     "shell.execute_reply": "2021-05-04T23:38:44.093290Z"
    },
    "papermill": {
     "duration": 6.959074,
     "end_time": "2021-05-04T23:38:44.094487",
     "exception": false,
     "start_time": "2021-05-04T23:38:37.135413",
     "status": "completed"
    },
    "tags": []
   },
   "outputs": [
    {
     "name": "stdout",
     "output_type": "stream",
     "text": [
      "       label  pixel1  pixel2  pixel3  pixel4  pixel5  pixel6  pixel7  pixel8  \\\n",
      "0          2       0       0       0       0       0       0       0       0   \n",
      "1          9       0       0       0       0       0       0       0       0   \n",
      "2          6       0       0       0       0       0       0       0       5   \n",
      "3          0       0       0       0       1       2       0       0       0   \n",
      "4          3       0       0       0       0       0       0       0       0   \n",
      "...      ...     ...     ...     ...     ...     ...     ...     ...     ...   \n",
      "59995      9       0       0       0       0       0       0       0       0   \n",
      "59996      1       0       0       0       0       0       0       0       0   \n",
      "59997      8       0       0       0       0       0       0       0       0   \n",
      "59998      8       0       0       0       0       0       0       0       0   \n",
      "59999      7       0       0       0       0       0       0       0       0   \n",
      "\n",
      "       pixel9  ...  pixel775  pixel776  pixel777  pixel778  pixel779  \\\n",
      "0           0  ...         0         0         0         0         0   \n",
      "1           0  ...         0         0         0         0         0   \n",
      "2           0  ...         0         0         0        30        43   \n",
      "3           0  ...         3         0         0         0         0   \n",
      "4           0  ...         0         0         0         0         0   \n",
      "...       ...  ...       ...       ...       ...       ...       ...   \n",
      "59995       0  ...         0         0         0         0         0   \n",
      "59996       0  ...        73         0         0         0         0   \n",
      "59997       0  ...       160       162       163       135        94   \n",
      "59998       0  ...         0         0         0         0         0   \n",
      "59999       0  ...         0         0         0         0         0   \n",
      "\n",
      "       pixel780  pixel781  pixel782  pixel783  pixel784  \n",
      "0             0         0         0         0         0  \n",
      "1             0         0         0         0         0  \n",
      "2             0         0         0         0         0  \n",
      "3             1         0         0         0         0  \n",
      "4             0         0         0         0         0  \n",
      "...         ...       ...       ...       ...       ...  \n",
      "59995         0         0         0         0         0  \n",
      "59996         0         0         0         0         0  \n",
      "59997         0         0         0         0         0  \n",
      "59998         0         0         0         0         0  \n",
      "59999         0         0         0         0         0  \n",
      "\n",
      "[60000 rows x 785 columns]\n"
     ]
    }
   ],
   "source": [
    "#reading the data Pandas library, there are many other ways to read it with other libraries!\n",
    "data = pd.read_csv('/kaggle/input/fashionmnist/fashion-mnist_train.csv')\n",
    "print (data)"
   ]
  },
  {
   "cell_type": "code",
   "execution_count": 4,
   "id": "configured-joint",
   "metadata": {
    "execution": {
     "iopub.execute_input": "2021-05-04T23:38:44.116017Z",
     "iopub.status.busy": "2021-05-04T23:38:44.115137Z",
     "iopub.status.idle": "2021-05-04T23:38:44.118563Z",
     "shell.execute_reply": "2021-05-04T23:38:44.119688Z"
    },
    "papermill": {
     "duration": 0.016614,
     "end_time": "2021-05-04T23:38:44.119937",
     "exception": false,
     "start_time": "2021-05-04T23:38:44.103323",
     "status": "completed"
    },
    "tags": []
   },
   "outputs": [
    {
     "name": "stdout",
     "output_type": "stream",
     "text": [
      "(60000, 785)\n"
     ]
    }
   ],
   "source": [
    "print(data.shape)  # to check the shape"
   ]
  },
  {
   "cell_type": "code",
   "execution_count": 5,
   "id": "latest-triumph",
   "metadata": {
    "execution": {
     "iopub.execute_input": "2021-05-04T23:38:44.149640Z",
     "iopub.status.busy": "2021-05-04T23:38:44.148863Z",
     "iopub.status.idle": "2021-05-04T23:38:44.154355Z",
     "shell.execute_reply": "2021-05-04T23:38:44.153000Z"
    },
    "papermill": {
     "duration": 0.025031,
     "end_time": "2021-05-04T23:38:44.154578",
     "exception": false,
     "start_time": "2021-05-04T23:38:44.129547",
     "status": "completed"
    },
    "tags": []
   },
   "outputs": [
    {
     "name": "stdout",
     "output_type": "stream",
     "text": [
      "   label  pixel1  pixel2  pixel3  pixel4  pixel5  pixel6  pixel7  pixel8  \\\n",
      "0      2       0       0       0       0       0       0       0       0   \n",
      "1      9       0       0       0       0       0       0       0       0   \n",
      "2      6       0       0       0       0       0       0       0       5   \n",
      "3      0       0       0       0       1       2       0       0       0   \n",
      "4      3       0       0       0       0       0       0       0       0   \n",
      "5      4       0       0       0       5       4       5       5       3   \n",
      "6      4       0       0       0       0       0       0       0       0   \n",
      "7      5       0       0       0       0       0       0       0       0   \n",
      "8      4       0       0       0       0       0       0       3       2   \n",
      "9      8       0       0       0       0       0       0       0       0   \n",
      "\n",
      "   pixel9  ...  pixel775  pixel776  pixel777  pixel778  pixel779  pixel780  \\\n",
      "0       0  ...         0         0         0         0         0         0   \n",
      "1       0  ...         0         0         0         0         0         0   \n",
      "2       0  ...         0         0         0        30        43         0   \n",
      "3       0  ...         3         0         0         0         0         1   \n",
      "4       0  ...         0         0         0         0         0         0   \n",
      "5       5  ...         7         8         7         4         3         7   \n",
      "6       0  ...        14         0         0         0         0         0   \n",
      "7       0  ...         0         0         0         0         0         0   \n",
      "8       0  ...         1         0         0         0         0         0   \n",
      "9       0  ...       203       214       166         0         0         0   \n",
      "\n",
      "   pixel781  pixel782  pixel783  pixel784  \n",
      "0         0         0         0         0  \n",
      "1         0         0         0         0  \n",
      "2         0         0         0         0  \n",
      "3         0         0         0         0  \n",
      "4         0         0         0         0  \n",
      "5         5         0         0         0  \n",
      "6         0         0         0         0  \n",
      "7         0         0         0         0  \n",
      "8         0         0         0         0  \n",
      "9         0         0         0         0  \n",
      "\n",
      "[10 rows x 785 columns]\n"
     ]
    }
   ],
   "source": [
    "print(data.head(10))  # print the first 10 lines of the data"
   ]
  },
  {
   "cell_type": "code",
   "execution_count": 6,
   "id": "scheduled-second",
   "metadata": {
    "execution": {
     "iopub.execute_input": "2021-05-04T23:38:44.177799Z",
     "iopub.status.busy": "2021-05-04T23:38:44.176946Z",
     "iopub.status.idle": "2021-05-04T23:38:44.180298Z",
     "shell.execute_reply": "2021-05-04T23:38:44.179686Z"
    },
    "papermill": {
     "duration": 0.01599,
     "end_time": "2021-05-04T23:38:44.180458",
     "exception": false,
     "start_time": "2021-05-04T23:38:44.164468",
     "status": "completed"
    },
    "tags": []
   },
   "outputs": [],
   "source": [
    "#you can try and manipulate this for a better understand of the next bloc\n",
    "#FT=data[data.columns[0]]\n",
    "#print (FT)\n",
    "#KT=data[data.columns[1:2]]#it doesn't count the second number, and it starts from 0\n",
    "#print (KT)\n",
    "#TT=FT.iloc[1]\n",
    "#print(TT)"
   ]
  },
  {
   "cell_type": "code",
   "execution_count": 7,
   "id": "meaningful-concentration",
   "metadata": {
    "execution": {
     "iopub.execute_input": "2021-05-04T23:38:44.206489Z",
     "iopub.status.busy": "2021-05-04T23:38:44.205411Z",
     "iopub.status.idle": "2021-05-04T23:38:46.788785Z",
     "shell.execute_reply": "2021-05-04T23:38:46.788090Z"
    },
    "papermill": {
     "duration": 2.599996,
     "end_time": "2021-05-04T23:38:46.788929",
     "exception": false,
     "start_time": "2021-05-04T23:38:44.188933",
     "status": "completed"
    },
    "tags": []
   },
   "outputs": [
    {
     "data": {
      "image/png": "[encoded data removed]",
      "text/plain": [
       "<Figure size 432x288 with 1 Axes>"
      ]
     },
     "metadata": {
      "needs_background": "light"
     },
     "output_type": "display_data"
    },
    {
     "data": {
      "image/png": "[encoded data removed]",
      "text/plain": [
       "<Figure size 432x288 with 1 Axes>"
      ]
     },
     "metadata": {
      "needs_background": "light"
     },
     "output_type": "display_data"
    },
    {
     "data": {
      "image/png": "[encoded data removed]",
      "text/plain": [
       "<Figure size 432x288 with 1 Axes>"
      ]
     },
     "metadata": {
      "needs_background": "light"
     },
     "output_type": "display_data"
    },
    {
     "data": {
      "image/png": "[encoded data removed]",
      "text/plain": [
       "<Figure size 432x288 with 1 Axes>"
      ]
     },
     "metadata": {
      "needs_background": "light"
     },
     "output_type": "display_data"
    },
    {
     "data": {
      "image/png": "[encoded data removed]",
      "text/plain": [
       "<Figure size 432x288 with 1 Axes>"
      ]
     },
     "metadata": {
      "needs_background": "light"
     },
     "output_type": "display_data"
    },
    {
     "data": {
      "image/png": "[encoded data removed]",
      "text/plain": [
       "<Figure size 432x288 with 1 Axes>"
      ]
     },
     "metadata": {
      "needs_background": "light"
     },
     "output_type": "display_data"
    },
    {
     "data": {
      "image/png": "[encoded data removed]",
      "text/plain": [
       "<Figure size 432x288 with 1 Axes>"
      ]
     },
     "metadata": {
      "needs_background": "light"
     },
     "output_type": "display_data"
    },
    {
     "data": {
      "image/png": "[encoded data removed]",
      "text/plain": [
       "<Figure size 432x288 with 1 Axes>"
      ]
     },
     "metadata": {
      "needs_background": "light"
     },
     "output_type": "display_data"
    },
    {
     "data": {
      "image/png": "[encoded data removed]",
      "text/plain": [
       "<Figure size 432x288 with 1 Axes>"
      ]
     },
     "metadata": {
      "needs_background": "light"
     },
     "output_type": "display_data"
    },
    {
     "data": {
      "image/png": "[encoded data removed]",
      "text/plain": [
       "<Figure size 432x288 with 1 Axes>"
      ]
     },
     "metadata": {
      "needs_background": "light"
     },
     "output_type": "display_data"
    }
   ],
   "source": [
    "for i in range (0,10):\n",
    "    #Reshape:https://numpy.org/doc/stable/reference/generated/numpy.reshape.html\n",
    "    #https://pandas.pydata.org/docs/reference/api/pandas.DataFrame.iloc.html\n",
    "  sample = np.reshape(data[data.columns[1:]].iloc[i].values/255, (28,28))\n",
    "#values to concert it to numpy array\n",
    "  #print (sample)\n",
    "  plt.figure()\n",
    "  plt.title(\"labeled class {}\".format(data[\"label\"].iloc[i]))\n",
    "  plt.imshow(sample, 'gray')"
   ]
  }
 ],
 "metadata": {
  "kernelspec": {
   "display_name": "Python 3",
   "language": "python",
   "name": "python3"
  },
  "language_info": {
   "codemirror_mode": {
    "name": "ipython",
    "version": 3
   },
   "file_extension": ".py",
   "mimetype": "text/x-python",
   "name": "python",
   "nbconvert_exporter": "python",
   "pygments_lexer": "ipython3",
   "version": "3.7.10"
  },
  "papermill": {
   "default_parameters": {},
   "duration": 19.93259,
   "end_time": "2021-05-04T23:38:48.331095",
   "environment_variables": {},
   "exception": null,
   "input_path": "__notebook__.ipynb",
   "output_path": "__notebook__.ipynb",
   "parameters": {},
   "start_time": "2021-05-04T23:38:28.398505",
   "version": "2.3.3"
  }
 },
 "nbformat": 4,
 "nbformat_minor": 5
}
